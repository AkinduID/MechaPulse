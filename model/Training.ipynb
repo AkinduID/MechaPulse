{
 "cells": [
  {
   "cell_type": "code",
   "execution_count": 1,
   "id": "abc86431-87c0-40e5-a290-27876022071c",
   "metadata": {},
   "outputs": [],
   "source": [
    "# Importing the Libraries\n",
    "\n",
    "import numpy as np\n",
    "import pandas as pd\n",
    "from sklearn.ensemble import RandomForestClassifier\n",
    "from sklearn.metrics import accuracy_score\n",
    "\n",
    "import scipy.io.wavfile as wavfile\n",
    "import scipy.fftpack as fftpk\n",
    "from matplotlib import pyplot as plt\n",
    "\n",
    "import sounddevice as sd\n",
    "import soundfile as sf\n",
    "import librosa\n",
    "\n",
    "from IPython.display import Image\n",
    "import ipywidgets as widgets\n",
    "from IPython.display import display\n",
    "    \n",
    "\n",
    "#This Function train the data for a given fault ID\n",
    "def training(faultID):\n",
    "    if (faultID== None):\n",
    "        pass\n",
    "    else:\n",
    "        # Creating a Dataframe to store the results\n",
    "        input_test = pd.DataFrame(np.zeros((2,9)))\n",
    "        input_test.columns = [\"RMS\",\"Mean\",\"MA1\",\"MA2\",\"MA3\",\"F1\",\"F2\",\"F3\",\"FailureID\"]\n",
    "    \n",
    "        # Training the data repeatively\n",
    "        for i in range(4):\n",
    "            \n",
    "            # Recording the audio\n",
    "            samplerate = 48000  \n",
    "            duration = 5 # seconds\n",
    "            audio = 'testing.wav'\n",
    "            print(\"training data\",i+1,\"....\")\n",
    "            mydata = sd.rec(int(samplerate * duration), samplerate=samplerate,channels=1, blocking=True)\n",
    "            sd.wait()\n",
    "            sf.write(audio, mydata, samplerate)\n",
    "            \n",
    "            # Reading the audio file\n",
    "            s_rate, signal = wavfile.read(audio)\n",
    "            \n",
    "            # Extracting the features from time domain\n",
    "            mean = abs(signal).mean()\n",
    "            rms = np.sqrt(abs((signal**2).mean()))\n",
    "            \n",
    "            # Extracting the feaures from frequency domain with Fast Fourier Transform\n",
    "            FFT_ = abs(fftpk.fft(signal))\n",
    "            FFT = FFT_[range(len(FFT_)//2)]\n",
    "            freqs = fftpk.fftfreq(len(FFT), 1.0/s_rate)[range(len(FFT_)//2)]\n",
    "            \n",
    "            # Extracting the 3 highest amplitudes in freqeuency spectrum \n",
    "            sorted = np.sort(FFT)[::-1]\n",
    "            ma1, ma2 , ma3 = sorted[[0,1,2]]\n",
    "    \n",
    "            # Exrtacting the frequency positions of above amplitudes\n",
    "            max_amp_index = [np.where(FFT == sorted[0])[0], np.where(FFT == sorted[1])[0], np.where(FFT == sorted[2])[0]]\n",
    "            f1, f2, f3 = np.concatenate(freqs[max_amp_index])\n",
    "    \n",
    "            # Adding all the extracted features into the dataframe\n",
    "            features = [rms,mean,ma1,ma2,ma3,f1,f2,f3,faultID]\n",
    "            input_test.loc[i]= features\n",
    "           \n",
    "        print('Successfully trained the faultID',faultID)    \n",
    "        return input_test\n",
    "     \n",
    "            \n",
    "        "
   ]
  },
  {
   "cell_type": "code",
   "execution_count": 2,
   "id": "573655e5-0ef5-41e3-bace-a7d5123e3989",
   "metadata": {},
   "outputs": [],
   "source": [
    "def trainAll(ready):\n",
    "    \n",
    "   \n",
    "    IDall= pd.DataFrame()\n",
    "    faultID=1\n",
    "        while True:\n",
    "            ID = training(faultID)\n",
    "            Ready = widgets.Checkbox(False, description='Start next')\n",
    "            Not_ready = widgets.Checkbox(False, description='Stop')\n",
    "            if Ready.value == True:\n",
    "                IDall= pd.concat([IDall,ID],ignore_index=True)\n",
    "                break\n",
    "            elif Not_ready.value == True:\n",
    "                IDall= pd.concat([IDall,ID],ignore_index=True)\n",
    "                faultID +=1\n",
    "        IDall.to_csv(\"training.csv\",index=False)\n",
    "        data = pd.read_csv(\"training.csv\")\n",
    "        return data \n",
    "        "
   ]
  },
  {
   "cell_type": "code",
   "execution_count": 36,
   "id": "e1e19248-ef3b-413a-9643-72ed4bb16646",
   "metadata": {},
   "outputs": [
    {
     "name": "stdout",
     "output_type": "stream",
     "text": [
      "training data 1 ....\n",
      "training data 2 ....\n",
      "training data 3 ....\n",
      "training data 4 ....\n",
      "Successfully trained the faultID 1\n"
     ]
    },
    {
     "name": "stdin",
     "output_type": "stream",
     "text": [
      "All fault IDs are trained? (Type \"Yes\" or \"No\") No\n"
     ]
    },
    {
     "name": "stdout",
     "output_type": "stream",
     "text": [
      "training data 1 ....\n",
      "training data 2 ....\n",
      "training data 3 ....\n",
      "training data 4 ....\n",
      "Successfully trained the faultID 2\n"
     ]
    },
    {
     "name": "stdin",
     "output_type": "stream",
     "text": [
      "All fault IDs are trained? (Type \"Yes\" or \"No\") No\n"
     ]
    },
    {
     "name": "stdout",
     "output_type": "stream",
     "text": [
      "training data 1 ....\n",
      "training data 2 ....\n",
      "training data 3 ....\n",
      "training data 4 ....\n",
      "Successfully trained the faultID 3\n"
     ]
    },
    {
     "name": "stdin",
     "output_type": "stream",
     "text": [
      "All fault IDs are trained? (Type \"Yes\" or \"No\") Yes\n"
     ]
    },
    {
     "data": {
      "text/html": [
       "<div>\n",
       "<style scoped>\n",
       "    .dataframe tbody tr th:only-of-type {\n",
       "        vertical-align: middle;\n",
       "    }\n",
       "\n",
       "    .dataframe tbody tr th {\n",
       "        vertical-align: top;\n",
       "    }\n",
       "\n",
       "    .dataframe thead th {\n",
       "        text-align: right;\n",
       "    }\n",
       "</style>\n",
       "<table border=\"1\" class=\"dataframe\">\n",
       "  <thead>\n",
       "    <tr style=\"text-align: right;\">\n",
       "      <th></th>\n",
       "      <th>RMS</th>\n",
       "      <th>Mean</th>\n",
       "      <th>MA1</th>\n",
       "      <th>MA2</th>\n",
       "      <th>MA3</th>\n",
       "      <th>F1</th>\n",
       "      <th>F2</th>\n",
       "      <th>F3</th>\n",
       "      <th>FailureID</th>\n",
       "    </tr>\n",
       "  </thead>\n",
       "  <tbody>\n",
       "    <tr>\n",
       "      <th>0</th>\n",
       "      <td>2.371729</td>\n",
       "      <td>1.862942</td>\n",
       "      <td>70582.201055</td>\n",
       "      <td>44957.938059</td>\n",
       "      <td>42464.528787</td>\n",
       "      <td>2.8</td>\n",
       "      <td>1.2</td>\n",
       "      <td>5.6</td>\n",
       "      <td>1.0</td>\n",
       "    </tr>\n",
       "    <tr>\n",
       "      <th>1</th>\n",
       "      <td>2.325790</td>\n",
       "      <td>1.825933</td>\n",
       "      <td>35662.282358</td>\n",
       "      <td>34522.145758</td>\n",
       "      <td>27732.243961</td>\n",
       "      <td>6.4</td>\n",
       "      <td>2.0</td>\n",
       "      <td>8.4</td>\n",
       "      <td>1.0</td>\n",
       "    </tr>\n",
       "    <tr>\n",
       "      <th>2</th>\n",
       "      <td>2.320941</td>\n",
       "      <td>1.823533</td>\n",
       "      <td>38012.689287</td>\n",
       "      <td>37834.148537</td>\n",
       "      <td>31264.074340</td>\n",
       "      <td>2.8</td>\n",
       "      <td>6.0</td>\n",
       "      <td>2.4</td>\n",
       "      <td>1.0</td>\n",
       "    </tr>\n",
       "    <tr>\n",
       "      <th>3</th>\n",
       "      <td>2.332870</td>\n",
       "      <td>1.833342</td>\n",
       "      <td>40215.863164</td>\n",
       "      <td>34676.628611</td>\n",
       "      <td>28908.147465</td>\n",
       "      <td>4.8</td>\n",
       "      <td>7.6</td>\n",
       "      <td>4.0</td>\n",
       "      <td>1.0</td>\n",
       "    </tr>\n",
       "    <tr>\n",
       "      <th>4</th>\n",
       "      <td>2.378052</td>\n",
       "      <td>1.861967</td>\n",
       "      <td>61710.233255</td>\n",
       "      <td>49222.121476</td>\n",
       "      <td>40121.539909</td>\n",
       "      <td>4.0</td>\n",
       "      <td>3.2</td>\n",
       "      <td>1.6</td>\n",
       "      <td>2.0</td>\n",
       "    </tr>\n",
       "    <tr>\n",
       "      <th>5</th>\n",
       "      <td>2.273188</td>\n",
       "      <td>1.784217</td>\n",
       "      <td>31818.292810</td>\n",
       "      <td>30500.732825</td>\n",
       "      <td>28245.946034</td>\n",
       "      <td>6.0</td>\n",
       "      <td>2.0</td>\n",
       "      <td>5.6</td>\n",
       "      <td>2.0</td>\n",
       "    </tr>\n",
       "    <tr>\n",
       "      <th>6</th>\n",
       "      <td>2.277147</td>\n",
       "      <td>1.788800</td>\n",
       "      <td>32449.675131</td>\n",
       "      <td>30182.210549</td>\n",
       "      <td>29478.038476</td>\n",
       "      <td>1.2</td>\n",
       "      <td>3.2</td>\n",
       "      <td>1.6</td>\n",
       "      <td>2.0</td>\n",
       "    </tr>\n",
       "    <tr>\n",
       "      <th>7</th>\n",
       "      <td>2.307180</td>\n",
       "      <td>1.811046</td>\n",
       "      <td>44864.188557</td>\n",
       "      <td>42049.738893</td>\n",
       "      <td>30576.481319</td>\n",
       "      <td>3.6</td>\n",
       "      <td>4.4</td>\n",
       "      <td>3.2</td>\n",
       "      <td>2.0</td>\n",
       "    </tr>\n",
       "    <tr>\n",
       "      <th>8</th>\n",
       "      <td>2.321391</td>\n",
       "      <td>1.824500</td>\n",
       "      <td>48901.823393</td>\n",
       "      <td>44747.661513</td>\n",
       "      <td>37204.854942</td>\n",
       "      <td>2.8</td>\n",
       "      <td>1.6</td>\n",
       "      <td>3.6</td>\n",
       "      <td>3.0</td>\n",
       "    </tr>\n",
       "    <tr>\n",
       "      <th>9</th>\n",
       "      <td>2.274521</td>\n",
       "      <td>1.784396</td>\n",
       "      <td>42369.151421</td>\n",
       "      <td>40951.170688</td>\n",
       "      <td>25898.628243</td>\n",
       "      <td>3.6</td>\n",
       "      <td>5.2</td>\n",
       "      <td>10.0</td>\n",
       "      <td>3.0</td>\n",
       "    </tr>\n",
       "    <tr>\n",
       "      <th>10</th>\n",
       "      <td>2.283043</td>\n",
       "      <td>1.794029</td>\n",
       "      <td>55482.925622</td>\n",
       "      <td>34917.948372</td>\n",
       "      <td>33462.402169</td>\n",
       "      <td>4.8</td>\n",
       "      <td>4.0</td>\n",
       "      <td>8.4</td>\n",
       "      <td>3.0</td>\n",
       "    </tr>\n",
       "    <tr>\n",
       "      <th>11</th>\n",
       "      <td>2.283263</td>\n",
       "      <td>1.793042</td>\n",
       "      <td>33173.579981</td>\n",
       "      <td>29903.339449</td>\n",
       "      <td>27973.721792</td>\n",
       "      <td>2.4</td>\n",
       "      <td>3.2</td>\n",
       "      <td>4.8</td>\n",
       "      <td>3.0</td>\n",
       "    </tr>\n",
       "  </tbody>\n",
       "</table>\n",
       "</div>"
      ],
      "text/plain": [
       "         RMS      Mean           MA1           MA2           MA3   F1   F2  \\\n",
       "0   2.371729  1.862942  70582.201055  44957.938059  42464.528787  2.8  1.2   \n",
       "1   2.325790  1.825933  35662.282358  34522.145758  27732.243961  6.4  2.0   \n",
       "2   2.320941  1.823533  38012.689287  37834.148537  31264.074340  2.8  6.0   \n",
       "3   2.332870  1.833342  40215.863164  34676.628611  28908.147465  4.8  7.6   \n",
       "4   2.378052  1.861967  61710.233255  49222.121476  40121.539909  4.0  3.2   \n",
       "5   2.273188  1.784217  31818.292810  30500.732825  28245.946034  6.0  2.0   \n",
       "6   2.277147  1.788800  32449.675131  30182.210549  29478.038476  1.2  3.2   \n",
       "7   2.307180  1.811046  44864.188557  42049.738893  30576.481319  3.6  4.4   \n",
       "8   2.321391  1.824500  48901.823393  44747.661513  37204.854942  2.8  1.6   \n",
       "9   2.274521  1.784396  42369.151421  40951.170688  25898.628243  3.6  5.2   \n",
       "10  2.283043  1.794029  55482.925622  34917.948372  33462.402169  4.8  4.0   \n",
       "11  2.283263  1.793042  33173.579981  29903.339449  27973.721792  2.4  3.2   \n",
       "\n",
       "      F3  FailureID  \n",
       "0    5.6        1.0  \n",
       "1    8.4        1.0  \n",
       "2    2.4        1.0  \n",
       "3    4.0        1.0  \n",
       "4    1.6        2.0  \n",
       "5    5.6        2.0  \n",
       "6    1.6        2.0  \n",
       "7    3.2        2.0  \n",
       "8    3.6        3.0  \n",
       "9   10.0        3.0  \n",
       "10   8.4        3.0  \n",
       "11   4.8        3.0  "
      ]
     },
     "execution_count": 36,
     "metadata": {},
     "output_type": "execute_result"
    }
   ],
   "source": [
    "IDall = trainAll()\n",
    "IDall"
   ]
  },
  {
   "cell_type": "code",
   "execution_count": 3,
   "id": "c79970d3-0650-4f59-9725-c7edbaf1e412",
   "metadata": {},
   "outputs": [
    {
     "data": {
      "application/vnd.jupyter.widget-view+json": {
       "model_id": "6497e3a0879b4b1786dded0332e7ceb1",
       "version_major": 2,
       "version_minor": 0
      },
      "text/plain": [
       "Dropdown(description='Model:', options=(('Option 1 - Classifier', 0), ('Option 2 - Anomaly Detection', 1)), va…"
      ]
     },
     "metadata": {},
     "output_type": "display_data"
    },
    {
     "data": {
      "application/vnd.jupyter.widget-view+json": {
       "model_id": "f37ef4e08ea344c08fb27f895df6785a",
       "version_major": 2,
       "version_minor": 0
      },
      "text/plain": [
       "Text(value='', description='FaultID: ')"
      ]
     },
     "metadata": {},
     "output_type": "display_data"
    },
    {
     "data": {
      "application/vnd.jupyter.widget-view+json": {
       "model_id": "0c9877a4b444449186dd714881ab8ca5",
       "version_major": 2,
       "version_minor": 0
      },
      "text/plain": [
       "Button(button_style='primary', description='Train', icon='play', style=ButtonStyle(), tooltip='Record')"
      ]
     },
     "metadata": {},
     "output_type": "display_data"
    },
    {
     "data": {
      "application/vnd.jupyter.widget-view+json": {
       "model_id": "0f2be04bd23a453d8366197502d92be6",
       "version_major": 2,
       "version_minor": 0
      },
      "text/plain": [
       "HBox(children=(Button(button_style='success', description='Predict', icon='bar-chart', style=ButtonStyle(), to…"
      ]
     },
     "metadata": {},
     "output_type": "display_data"
    },
    {
     "data": {
      "application/vnd.jupyter.widget-view+json": {
       "model_id": "1e3cfbbdc0d24c698a4430895b32ab24",
       "version_major": 2,
       "version_minor": 0
      },
      "text/plain": [
       "Output()"
      ]
     },
     "metadata": {},
     "output_type": "display_data"
    }
   ],
   "source": [
    "# Creating the recored button\n",
    "train_button = widgets.Button(description='Train',disabled=False,button_style='primary',tooltip='Record',icon='play')\n",
    "faultID = widgets.Text(description = \"FaultID: \", disabled = False)\n",
    "       \n",
    "# Creating the recored button\n",
    "record_button = widgets.Button(description='Predict',disabled=False,button_style='success',tooltip='Record',icon='bar-chart')\n",
    "\n",
    "# Creating the stop button\n",
    "stop_button = widgets.Button(description='Stop',disabled=False,button_style='warning',tooltip='Stop',icon='stop')\n",
    "\n",
    "# Creating the output widget\n",
    "output = widgets.Output()\n",
    "\n",
    "# This function record the data and show the preictions\n",
    "def start_recording(data):\n",
    "    \n",
    "    with output:\n",
    "        output.clear_output()\n",
    "        training(faultID)\n",
    "    \n",
    "\n",
    "\n",
    "train_button.on_click(start_recording)\n",
    "\n",
    "# Displaying the output and buttons\n",
    "\n",
    "x3 = widgets.Dropdown(description = \"Model:\",options=[(\"Option 1 - Classifier\" ,0),(\"Option 2 - Anomaly Detection\",1 )])\n",
    "x2 = widgets.Text(description = \"FaultID: \", disabled = False)\n",
    "def x3_callback(change):\n",
    "    x2.value =\"{}\".format(change[\"new\"][0])\n",
    "    \n",
    "    \n",
    "    \n",
    "x3.observe(x3_callback,names=\"value\")\n",
    "\n",
    "display(x3) \n",
    "display(x2)\n",
    "\n",
    "\n",
    "\n",
    "display(train_button)\n",
    "b= widgets.HBox([record_button,stop_button])\n",
    "\n",
    "b.layout.justify_content = 'center'\n",
    "\n",
    "display(b)\n",
    "display(output)"
   ]
  },
  {
   "cell_type": "code",
   "execution_count": 4,
   "id": "86680e2f-1c1f-4a2a-8c05-e9817cdd8f63",
   "metadata": {},
   "outputs": [
    {
     "data": {
      "text/plain": [
       "<bound method Button.on_click of Button(button_style='primary', description='Train', icon='play', style=ButtonStyle(), tooltip='Record')>"
      ]
     },
     "execution_count": 4,
     "metadata": {},
     "output_type": "execute_result"
    }
   ],
   "source": [
    "(train_button.on_click)"
   ]
  },
  {
   "cell_type": "code",
   "execution_count": 5,
   "id": "2aae6404-8dc2-4076-aebd-5dad147529c9",
   "metadata": {},
   "outputs": [],
   "source": [
    "def trainingA(ready):\n",
    "    \n",
    "    if (ready==False):\n",
    "        pass\n",
    "    else:\n",
    "        \n",
    "        # Creating a Dataframe to store the results\n",
    "        input_test = pd.DataFrame(np.zeros((2,8)))\n",
    "        input_test.columns = [\"RMS\",\"Mean\",\"MA1\",\"MA2\",\"MA3\",\"F1\",\"F2\",\"F3\"]\n",
    "    \n",
    "        # Training the data repeatively\n",
    "        for i in range(2):\n",
    "            \n",
    "            # Recording the audio\n",
    "            samplerate = 48000  \n",
    "            duration = 5 # seconds\n",
    "            audio = 'A_testing.wav'\n",
    "            print(\"training data\",i+1,\"....\")\n",
    "            mydata = sd.rec(int(samplerate * duration), samplerate=samplerate,channels=1, blocking=True)\n",
    "            sd.wait()\n",
    "            sf.write(audio, mydata, samplerate)\n",
    "            \n",
    "            # Reading the audio file\n",
    "            s_rate, signal = wavfile.read(audio)\n",
    "            \n",
    "            # Extracting the features from time domain\n",
    "            mean = abs(signal).mean()\n",
    "            rms = np.sqrt(abs((signal**2).mean()))\n",
    "            \n",
    "            # Extracting the feaures from frequency domain with Fast Fourier Transform\n",
    "            FFT_ = abs(fftpk.fft(signal))\n",
    "            FFT = FFT_[range(len(FFT_)//2)]\n",
    "            freqs = fftpk.fftfreq(len(FFT), 1.0/s_rate)[range(len(FFT_)//2)]\n",
    "            \n",
    "            # Extracting the 3 highest amplitudes in freqeuency spectrum \n",
    "            sorted = np.sort(FFT)[::-1]\n",
    "            ma1, ma2 , ma3 = sorted[[0,1,2]]\n",
    "    \n",
    "            # Exrtacting the frequency positions of above amplitudes\n",
    "            max_amp_index = [np.where(FFT == sorted[0])[0], np.where(FFT == sorted[1])[0], np.where(FFT == sorted[2])[0]]\n",
    "            f1, f2, f3 = np.concatenate(freqs[max_amp_index])\n",
    "    \n",
    "            # Adding all the extracted features into the dataframe\n",
    "            features = [rms,mean,ma1,ma2,ma3,f1,f2,f3]\n",
    "            input_test.loc[i]= features\n",
    "           \n",
    "        print('Successfully trained')    \n",
    "        return input_test"
   ]
  },
  {
   "cell_type": "code",
   "execution_count": 6,
   "id": "c4b1eb02-eb85-4a23-a303-b5b543df090e",
   "metadata": {},
   "outputs": [
    {
     "data": {
      "application/vnd.jupyter.widget-view+json": {
       "model_id": "e831579f26f14b388e4b914336574ca0",
       "version_major": 2,
       "version_minor": 0
      },
      "text/plain": [
       "interactive(children=(Dropdown(description='Model:', options=(('Option 1 - Classifier', 0), ('Option 2 - Anoma…"
      ]
     },
     "metadata": {},
     "output_type": "display_data"
    }
   ],
   "source": [
    "option = widgets.Dropdown(description = \"Model:\",options=[(\"Option 1 - Classifier\" ,0),(\"Option 2 - Anomaly Detection\",1 )],value=None)\n",
    "IDall = pd.DataFrame()\n",
    "def model_select(m):\n",
    "    global IDall\n",
    "    if m ==0:\n",
    "        Ready = widgets.Checkbox(False, description='Start')\n",
    "        widgets.interact(trainAll, ready=Ready);    \n",
    "    elif m == 1:\n",
    "        Ready = widgets.Checkbox(False, description='Start')\n",
    "        widgets.interact(trainingA, ready=Ready);\n",
    "widgets.interact(model_select, m=option);"
   ]
  },
  {
   "cell_type": "code",
   "execution_count": 7,
   "id": "9d93cc75-70a0-4490-8a40-53dd83c26c20",
   "metadata": {},
   "outputs": [
    {
     "ename": "NameError",
     "evalue": "name 'FaultID' is not defined",
     "output_type": "error",
     "traceback": [
      "\u001b[1;31m---------------------------------------------------------------------------\u001b[0m",
      "\u001b[1;31mNameError\u001b[0m                                 Traceback (most recent call last)",
      "Cell \u001b[1;32mIn[7], line 1\u001b[0m\n\u001b[1;32m----> 1\u001b[0m x\u001b[38;5;241m=\u001b[39m widgets\u001b[38;5;241m.\u001b[39minteract(training, faultID\u001b[38;5;241m=\u001b[39m\u001b[43mFaultID\u001b[49m);\n\u001b[0;32m      2\u001b[0m IDall\u001b[38;5;241m=\u001b[39mpd\u001b[38;5;241m.\u001b[39mDataFrame()\n\u001b[0;32m      4\u001b[0m ID \u001b[38;5;241m=\u001b[39m ((x\u001b[38;5;241m.\u001b[39m\u001b[38;5;18m__dict__\u001b[39m)[\u001b[38;5;124m'\u001b[39m\u001b[38;5;124mwidget\u001b[39m\u001b[38;5;124m'\u001b[39m]\u001b[38;5;241m.\u001b[39m\u001b[38;5;18m__dict__\u001b[39m)[\u001b[38;5;124m\"\u001b[39m\u001b[38;5;124mresult\u001b[39m\u001b[38;5;124m\"\u001b[39m]\n",
      "\u001b[1;31mNameError\u001b[0m: name 'FaultID' is not defined"
     ]
    }
   ],
   "source": [
    "x= widgets.interact(training, faultID=FaultID);\n",
    "IDall=pd.DataFrame()\n",
    "\n",
    "ID = ((x.__dict__)['widget'].__dict__)[\"result\"]\n",
    "IDall = pd.concat([IDall,ID],igno)\n",
    "IDall"
   ]
  },
  {
   "cell_type": "code",
   "execution_count": 219,
   "id": "13307166-3b9f-43cc-be15-3c259f545914",
   "metadata": {},
   "outputs": [
    {
     "data": {
      "text/plain": [
       "3"
      ]
     },
     "execution_count": 219,
     "metadata": {},
     "output_type": "execute_result"
    }
   ],
   "source": [
    "FaultID.value"
   ]
  },
  {
   "cell_type": "code",
   "execution_count": null,
   "id": "fb2dda9a-8dcb-4710-89c0-c87684f06038",
   "metadata": {},
   "outputs": [],
   "source": []
  }
 ],
 "metadata": {
  "kernelspec": {
   "display_name": "Python 3 (ipykernel)",
   "language": "python",
   "name": "python3"
  },
  "language_info": {
   "codemirror_mode": {
    "name": "ipython",
    "version": 3
   },
   "file_extension": ".py",
   "mimetype": "text/x-python",
   "name": "python",
   "nbconvert_exporter": "python",
   "pygments_lexer": "ipython3",
   "version": "3.11.2"
  }
 },
 "nbformat": 4,
 "nbformat_minor": 5
}
